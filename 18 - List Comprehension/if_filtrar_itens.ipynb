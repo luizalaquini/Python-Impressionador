{
 "cells": [
  {
   "cell_type": "markdown",
   "metadata": {},
   "source": [
    "# List Comprehensions com if para \"filtrar\" itens\n",
    "\n",
    "### Estrutura:"
   ]
  },
  {
   "cell_type": "raw",
   "metadata": {},
   "source": [
    "lista = [expressão for item in iterable if condicao]"
   ]
  },
  {
   "cell_type": "markdown",
   "metadata": {},
   "source": [
    "- Digamos que eu queira criar uma lista de produtos que bateram a meta."
   ]
  },
  {
   "cell_type": "code",
   "execution_count": 2,
   "metadata": {},
   "outputs": [],
   "source": [
    "meta = 1000\n",
    "vendas_produtos = [1500, 150, 2100, 1950]\n",
    "produtos = ['vinho', 'cafeiteira', 'microondas', 'iphone']"
   ]
  },
  {
   "cell_type": "markdown",
   "metadata": {},
   "source": [
    "Fazendo por For tradicional"
   ]
  },
  {
   "cell_type": "code",
   "execution_count": 3,
   "metadata": {},
   "outputs": [
    {
     "name": "stdout",
     "output_type": "stream",
     "text": [
      "['vinho', 'microondas', 'iphone']\n"
     ]
    }
   ],
   "source": [
    "produtos_bateram_meta = []\n",
    "\n",
    "for idx, produto in enumerate(produtos):\n",
    "    if vendas_produtos[idx] >= meta:\n",
    "        produtos_bateram_meta.append(produto)\n",
    "print(produtos_bateram_meta)"
   ]
  },
  {
   "cell_type": "markdown",
   "metadata": {},
   "source": [
    "Fazendo por list comprehension"
   ]
  },
  {
   "cell_type": "code",
   "execution_count": 4,
   "metadata": {},
   "outputs": [
    {
     "name": "stdout",
     "output_type": "stream",
     "text": [
      "['vinho', 'microondas', 'iphone']\n"
     ]
    }
   ],
   "source": [
    "produtos_bateram_meta = [produto for idx, produto in enumerate(produtos) if vendas_produtos[idx] >= meta]\n",
    "print(produtos_bateram_meta)"
   ]
  }
 ],
 "metadata": {
  "kernelspec": {
   "display_name": "Python 3.10.2 64-bit",
   "language": "python",
   "name": "python3"
  },
  "language_info": {
   "codemirror_mode": {
    "name": "ipython",
    "version": 3
   },
   "file_extension": ".py",
   "mimetype": "text/x-python",
   "name": "python",
   "nbconvert_exporter": "python",
   "pygments_lexer": "ipython3",
   "version": "3.10.2"
  },
  "vscode": {
   "interpreter": {
    "hash": "6b6e3305c6d5e98d3597993ad9b000902b7736611cc00ab4cbc2007df81cff6b"
   }
  }
 },
 "nbformat": 4,
 "nbformat_minor": 4
}
