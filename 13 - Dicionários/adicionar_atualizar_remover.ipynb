{
 "cells": [
  {
   "cell_type": "markdown",
   "metadata": {},
   "source": [
    "# Adicionar, Remover e Modificar Itens no Dicionário\n",
    "\n",
    "### Estrutura:\n",
    "\n",
    "- Adicionar itens:"
   ]
  },
  {
   "cell_type": "raw",
   "metadata": {},
   "source": [
    "dicionario = {}\n",
    "\n",
    "dicionario[chave] = valor\n",
    "\n",
    "outra opção:\n",
    "\n",
    "dicionario.update({chave: valor, chave: valor})"
   ]
  },
  {
   "cell_type": "code",
   "execution_count": 18,
   "metadata": {},
   "outputs": [
    {
     "name": "stdout",
     "output_type": "stream",
     "text": [
      "{'abril': 88000, 'maio': 89000, 'junho': 120000, 'julho': 90000}\n",
      "{'abril': 88000, 'maio': 89000, 'junho': 120000, 'julho': 90000, 'agosto': 100000, 'setembro': 110000}\n",
      "{'janeiro': 100000, 'fevereiro': 120000, 'março': 90000, 'abril': 88000, 'maio': 89000, 'junho': 120000, 'julho': 90000, 'agosto': 100000, 'setembro': 110000}\n"
     ]
    }
   ],
   "source": [
    "lucro_1tri = {'janeiro': 100000, 'fevereiro': 120000, 'março': 90000}\n",
    "lucro_2tri = {'abril': 88000, 'maio': 89000, 'junho': 120000}\n",
    "#adicionando 1 item\n",
    "lucro_2tri['julho'] = 90000\n",
    "print(lucro_2tri)\n",
    "#adicionando vários itens ou um dicionário a outro\n",
    "lucro_2tri.update({'agosto': 100000, 'setembro': 110000})\n",
    "print(lucro_2tri)\n",
    "lucro_1tri.update(lucro_2tri)\n",
    "print(lucro_1tri)"
   ]
  },
  {
   "cell_type": "markdown",
   "metadata": {},
   "source": [
    "- Modificar itens:\n",
    "\n",
    "Da mesma forma que adicionamos 1 valor, caso essa chave já exista o item é apenas modificado.\n",
    "\n",
    "dicionario[chave] = valor\n",
    "\n",
    "Vamos modificar o lucro de fevereiro:<br>\n",
    "(Lembrando: caso o item não exista, ele vai criar o item no dicionário)"
   ]
  },
  {
   "cell_type": "code",
   "execution_count": 19,
   "metadata": {},
   "outputs": [
    {
     "name": "stdout",
     "output_type": "stream",
     "text": [
      "{'janeiro': 100000, 'fevereiro': 85000, 'março': 90000, 'abril': 88000, 'maio': 89000, 'junho': 120000, 'julho': 90000, 'agosto': 100000, 'setembro': 110000}\n"
     ]
    }
   ],
   "source": [
    "lucro_fev = 85000\n",
    "\n",
    "lucro_1tri['fevereiro'] = lucro_fev\n",
    "print(lucro_1tri)"
   ]
  },
  {
   "cell_type": "markdown",
   "metadata": {},
   "source": [
    "- Remover itens:\n",
    "\n",
    "del dicionario[chave]\n",
    "\n",
    "ou então\n",
    "\n",
    "valor = dicionario.pop(chave)\n",
    "\n",
    "mas cuidado com:\n",
    "\n",
    "del dicionario<br>    ->    que é diferente de dicionario.clear()"
   ]
  },
  {
   "cell_type": "code",
   "execution_count": 20,
   "metadata": {},
   "outputs": [
    {
     "name": "stdout",
     "output_type": "stream",
     "text": [
      "{'janeiro': 100000, 'fevereiro': 85000, 'março': 90000, 'abril': 88000, 'maio': 89000, 'junho': 120000, 'julho': 90000}\n",
      "['João', 'Lira', 'Ana', 'Paula']\n",
      "{}\n"
     ]
    }
   ],
   "source": [
    "#removendo o mês de agosto e setembro\n",
    "del lucro_1tri['agosto']\n",
    "lucro_set = lucro_1tri.pop('setembro')\n",
    "print(lucro_1tri)\n",
    "\n",
    "#obs: o del também funciona para listas, caso queira usar\n",
    "#del lista[i]\n",
    "funcionarios = ['João', 'Lira', 'Maria', 'Ana', 'Paula']\n",
    "del funcionarios[2]\n",
    "print(funcionarios)\n",
    "\n",
    "# clear() remove todos os itens do dicionário\n",
    "lucro_1tri.clear()\n",
    "print(lucro_1tri)"
   ]
  }
 ],
 "metadata": {
  "kernelspec": {
   "display_name": "Python 3.10.2 64-bit",
   "language": "python",
   "name": "python3"
  },
  "language_info": {
   "codemirror_mode": {
    "name": "ipython",
    "version": 3
   },
   "file_extension": ".py",
   "mimetype": "text/x-python",
   "name": "python",
   "nbconvert_exporter": "python",
   "pygments_lexer": "ipython3",
   "version": "3.10.2"
  },
  "vscode": {
   "interpreter": {
    "hash": "6b6e3305c6d5e98d3597993ad9b000902b7736611cc00ab4cbc2007df81cff6b"
   }
  }
 },
 "nbformat": 4,
 "nbformat_minor": 4
}
