{
 "cells": [
  {
   "cell_type": "markdown",
   "metadata": {},
   "source": [
    "# Dicionários em Python\n",
    "\n",
    "### Estrutura:\n",
    "\n",
    "dicionario = {chave: valor, chave: valor, chave: valor, chave: valor ...}\n",
    "\n",
    "### Vantagens e Desvantagens\n",
    "\n",
    "- Não devem ser usados para pegar itens em uma determinada ordem\n",
    "- Podem ter valores heterogêneos (vários tipos de valores dentro de um mesmo dicionário: inteiros, strings, listas, etc)\n",
    "- Chaves são únicas obrigatoriamente\n",
    "- Mais intuitivos de trabalhar"
   ]
  },
  {
   "cell_type": "code",
   "execution_count": 1,
   "metadata": {},
   "outputs": [],
   "source": [
    "mais_vendidos = {'tecnologia': 'iphone', 'refrigeracao': 'ar consul 12000 btu', 'livros': 'o alquimista', 'eletrodoméstico': 'geladeira', 'lazer': 'prancha surf'}\n",
    "\n",
    "vendas_tecnologia = {'iphone': 15000, 'samsung galaxy': 12000, 'tv samsung': 10000, 'ps5': 14300, 'tablet': 1720, 'ipad': 1000, 'tv philco': 2500, 'notebook hp': 1000, 'notebook dell': 17000, 'notebook asus': 2450}"
   ]
  },
  {
   "cell_type": "markdown",
   "metadata": {},
   "source": [
    "- Qual foi o item mais vendido nas categorias 'livros' e 'lazer'?\n",
    "- Quanto foi vendido de 'notebook asus' e de 'ipad'?"
   ]
  },
  {
   "cell_type": "code",
   "execution_count": 4,
   "metadata": {},
   "outputs": [
    {
     "name": "stdout",
     "output_type": "stream",
     "text": [
      "O livro mais vendido foi: o alquimista\n",
      "O item de lazer mais vendido foi: prancha surf\n",
      "Foram vendidas 2450 unidades do notebook asus\n",
      "Foram vendidas 1000 unidades do ipad\n"
     ]
    }
   ],
   "source": [
    "mais_vendido_livros = mais_vendidos['livros']\n",
    "print(\"O livro mais vendido foi:\", mais_vendido_livros)\n",
    "\n",
    "mais_vendido_lazer = mais_vendidos['lazer']\n",
    "print(\"O item de lazer mais vendido foi:\", mais_vendido_lazer)\n",
    "\n",
    "qtd_notebook_asus = vendas_tecnologia['notebook asus']\n",
    "print(\"Foram vendidas {} unidades do notebook asus\" .format(qtd_notebook_asus))\n",
    "\n",
    "qtd_ipad = vendas_tecnologia['ipad']\n",
    "print(\"Foram vendidas {} unidades do ipad\" .format(qtd_ipad))"
   ]
  }
 ],
 "metadata": {
  "kernelspec": {
   "display_name": "Python 3.10.2 64-bit",
   "language": "python",
   "name": "python3"
  },
  "language_info": {
   "codemirror_mode": {
    "name": "ipython",
    "version": 3
   },
   "file_extension": ".py",
   "mimetype": "text/x-python",
   "name": "python",
   "nbconvert_exporter": "python",
   "pygments_lexer": "ipython3",
   "version": "3.10.2"
  },
  "vscode": {
   "interpreter": {
    "hash": "6b6e3305c6d5e98d3597993ad9b000902b7736611cc00ab4cbc2007df81cff6b"
   }
  }
 },
 "nbformat": 4,
 "nbformat_minor": 4
}
