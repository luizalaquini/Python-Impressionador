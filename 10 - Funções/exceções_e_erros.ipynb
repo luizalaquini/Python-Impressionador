{
 "cells": [
  {
   "cell_type": "markdown",
   "metadata": {},
   "source": [
    "# Exceções e Erros em Funções\n",
    "\n",
    "### Como \"testar\" erros e tratar exceções:"
   ]
  },
  {
   "cell_type": "raw",
   "metadata": {},
   "source": [
    "try:\n",
    "    o que eu quero tentar fazer\n",
    "except:\n",
    "    o que vou fazer caso dê erro"
   ]
  },
  {
   "cell_type": "code",
   "execution_count": 1,
   "metadata": {},
   "outputs": [],
   "source": [
    "def descobrir_servidor(email):\n",
    "    try:\n",
    "        posicao_a = email.index('@')\n",
    "    except:\n",
    "        print('Email inválido')\n",
    "        # raise Exception('Email inválido') == stops the code\n",
    "    else: # roda se não houver exceção, ou seja, se o try der certo\n",
    "        ervidor = email[posicao_a:]\n",
    "        if 'gmail' in servidor:\n",
    "            return 'gmail'\n",
    "        elif 'hotmail' in servidor or 'outlook' in servidor or 'live' in servidor:\n",
    "            return 'hotmail'\n",
    "        elif 'yahoo' in servidor:\n",
    "            return 'yahoo'\n",
    "        elif 'uol' in servidor or 'bol' in servidor:\n",
    "            return 'uol'\n",
    "        else:\n",
    "            return 'não determinado'"
   ]
  },
  {
   "cell_type": "code",
   "execution_count": 2,
   "metadata": {},
   "outputs": [
    {
     "name": "stdout",
     "output_type": "stream",
     "text": [
      "Email inválido\n",
      "None\n"
     ]
    }
   ],
   "source": [
    "email = input('Qual o seu e-mail?')\n",
    "print(descobrir_servidor(email))\n"
   ]
  },
  {
   "cell_type": "markdown",
   "metadata": {},
   "source": [
    "- Cuidado: uma vez dentro do try, qualquer erro vai levar ao except"
   ]
  },
  {
   "cell_type": "markdown",
   "metadata": {},
   "source": [
    "### Como \"printar\" um erro em uma function"
   ]
  },
  {
   "cell_type": "raw",
   "metadata": {},
   "source": [
    "raise Exception('O erro foi esse')\n",
    "\n",
    "ou então avisando qual o tipo de erro que ele teve\n",
    "\n",
    "raise TypeError('O erro foi esse')\n",
    "raise ValueError('O erro foi esse')\n",
    "raise ZeroDivisionError('O erro foi esse')"
   ]
  },
  {
   "cell_type": "code",
   "execution_count": null,
   "metadata": {},
   "outputs": [],
   "source": [
    "def descobrir_servidor(email):\n",
    "    posicao_a = email.index('@')\n",
    "    servidor = email[posicao_a:]\n",
    "    if 'gmail' in servidor:\n",
    "        return 'gmail'\n",
    "    elif 'hotmail' in servidor or 'outlook' in servidor or 'live' in servidor:\n",
    "        return 'hotmail'\n",
    "    elif 'yahoo' in servidor:\n",
    "        return 'yahoo'\n",
    "    elif 'uol' in servidor or 'bol' in servidor:\n",
    "        return 'uol'\n",
    "    else:\n",
    "        return 'não determinado'"
   ]
  },
  {
   "cell_type": "markdown",
   "metadata": {},
   "source": [
    "### Tratamento Completo:"
   ]
  },
  {
   "cell_type": "raw",
   "metadata": {},
   "source": [
    "try:\n",
    "    tente fazer isso\n",
    "except ErroEspecífico:\n",
    "    deu esse erro aqui que era esperado \n",
    "else:\n",
    "    caso não dê o erro esperado, rode isso.\n",
    "finally:\n",
    "    independente do que acontecer, faça isso."
   ]
  },
  {
   "cell_type": "code",
   "execution_count": null,
   "metadata": {},
   "outputs": [],
   "source": []
  }
 ],
 "metadata": {
  "kernelspec": {
   "display_name": "Python 3.10.2 64-bit",
   "language": "python",
   "name": "python3"
  },
  "language_info": {
   "codemirror_mode": {
    "name": "ipython",
    "version": 3
   },
   "file_extension": ".py",
   "mimetype": "text/x-python",
   "name": "python",
   "nbconvert_exporter": "python",
   "pygments_lexer": "ipython3",
   "version": "3.10.2"
  },
  "vscode": {
   "interpreter": {
    "hash": "6b6e3305c6d5e98d3597993ad9b000902b7736611cc00ab4cbc2007df81cff6b"
   }
  }
 },
 "nbformat": 4,
 "nbformat_minor": 4
}
