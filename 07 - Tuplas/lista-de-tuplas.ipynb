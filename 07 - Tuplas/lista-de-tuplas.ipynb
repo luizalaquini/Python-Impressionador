{
 "cells": [
  {
   "cell_type": "markdown",
   "metadata": {},
   "source": [
    "# Aplicação de Tupla - Lista de Tuplas\n",
    "\n",
    "### Estrutura:\n",
    "\n",
    "Além de casos como o do enumerate, em que usamos uma função para transformar itens em tuplas porque isso ajuda o nosso código, temos também listas de tuplas como algo comum dentro do Python."
   ]
  },
  {
   "cell_type": "raw",
   "metadata": {},
   "source": [
    "lista = [\n",
    "    tupla1,\n",
    "    tupla2,\n",
    "    tupla3,\n",
    "    ]\n",
    "    \n",
    "ou seja\n",
    "\n",
    "lista = [\n",
    "    (valor1, valor2, valor3),\n",
    "    (valor4, valor5, valor6),\n",
    "    (valor7, valor8, valor9),\n",
    "    ]"
   ]
  },
  {
   "cell_type": "markdown",
   "metadata": {},
   "source": [
    "### Exemplo:\n",
    "\n",
    "Digamos que você está analisando as vendas do Banco de Dados de um e-commerce.\n",
    "\n",
    "Em um determinado dia, você extraiu as vendas do Banco de Dados e elas vieram nesse formato:"
   ]
  },
  {
   "cell_type": "code",
   "execution_count": 2,
   "metadata": {},
   "outputs": [],
   "source": [
    "vendas = [\n",
    "    ('20/08/2020', 'iphone x', 'azul', '128gb', 350, 4000),\n",
    "    ('20/08/2020', 'iphone x', 'prata', '128gb', 1500, 4000),\n",
    "    ('20/08/2020', 'ipad', 'prata', '256gb', 127, 6000),\n",
    "    ('20/08/2020', 'ipad', 'prata', '128gb', 981, 5000),\n",
    "    ('21/08/2020', 'iphone x', 'azul', '128gb', 397, 4000),\n",
    "    ('21/08/2020', 'iphone 11', 'prata', '128gb', 1017, 4000),\n",
    "    ('21/08/2020', 'ipad', 'prata', '256gb', 50, 6000),\n",
    "    ('21/08/2020', 'ipad', 'prata', '128gb', 4000, 5000),\n",
    "]"
   ]
  },
  {
   "cell_type": "markdown",
   "metadata": {},
   "source": [
    "- Qual foi o faturamento de IPhone no dia 20/08/2020?\n",
    "- Qual foi o produto mais vendido (em unidades) no dia 21/08/2020?"
   ]
  },
  {
   "cell_type": "code",
   "execution_count": 11,
   "metadata": {},
   "outputs": [
    {
     "name": "stdout",
     "output_type": "stream",
     "text": [
      "O faturamento de iphones no dia 20/08/2020 foi de R$ 7,400,000\n",
      "O produto mais vendido no dia 21/08/2020 foi o ipad prata de 128gb com 4000 unidades\n"
     ]
    }
   ],
   "source": [
    "faturamento_iphone = 0\n",
    "\n",
    "produto_mais_vendido = ''\n",
    "unidades_mais_vendido = 0\n",
    "cor_mais_vendido = ''\n",
    "capacidade_mais_vendido = ''\n",
    "\n",
    "for venda in vendas:\n",
    "  data, produto, cor, capacidade, quantidade, valor_unitario = venda\n",
    "\n",
    "  if '20/08' in data and 'iphone' in produto:\n",
    "    faturamento_iphone += quantidade * valor_unitario\n",
    "  \n",
    "  if '21/08' in data and quantidade > unidades_mais_vendido:\n",
    "    unidades_mais_vendido = quantidade\n",
    "    produto_mais_vendido = produto\n",
    "    cor_mais_vendido = cor\n",
    "    capacidade_mais_vendido = capacidade\n",
    "\n",
    "print(\"O faturamento de iphones no dia 20/08/2020 foi de R$ {:,}\".format(faturamento_iphone))\n",
    "print(\"O produto mais vendido no dia 21/08/2020 foi o {} {} de {} com {} unidades\".format(produto_mais_vendido, cor_mais_vendido, capacidade_mais_vendido, unidades_mais_vendido))"
   ]
  }
 ],
 "metadata": {
  "kernelspec": {
   "display_name": "Python 3.10.2 64-bit",
   "language": "python",
   "name": "python3"
  },
  "language_info": {
   "codemirror_mode": {
    "name": "ipython",
    "version": 3
   },
   "file_extension": ".py",
   "mimetype": "text/x-python",
   "name": "python",
   "nbconvert_exporter": "python",
   "pygments_lexer": "ipython3",
   "version": "3.10.2"
  },
  "vscode": {
   "interpreter": {
    "hash": "6b6e3305c6d5e98d3597993ad9b000902b7736611cc00ab4cbc2007df81cff6b"
   }
  }
 },
 "nbformat": 4,
 "nbformat_minor": 4
}
