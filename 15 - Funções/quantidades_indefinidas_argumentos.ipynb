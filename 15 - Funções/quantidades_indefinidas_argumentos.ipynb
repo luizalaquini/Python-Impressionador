{
 "cells": [
  {
   "cell_type": "markdown",
   "metadata": {},
   "source": [
    "# Quantidade Indefinidas de Argumentos\n",
    "\n",
    "### Utilidade:\n",
    "\n",
    "Quando você quer permitir uma quantidade indefinida de argumentos, usa o * para isso.\n",
    "\n",
    "### Estrutura:"
   ]
  },
  {
   "cell_type": "raw",
   "metadata": {},
   "source": [
    "*args para positional arguments -> argumentos vêm em formato de tupla\n",
    "\n",
    "def minha_funcao(*args):\n",
    "    ...\n",
    "\n",
    "\n",
    "**kwargs para keyword arguments -> argumentos vêm em formato de dicionário\n",
    "\n",
    "def minha_funcao(**kwargs):\n",
    "    ..."
   ]
  },
  {
   "cell_type": "code",
   "execution_count": 2,
   "metadata": {},
   "outputs": [],
   "source": [
    "def minha_soma(*args): # onde args são os numeros\n",
    "    print(args) # visualizando a tupla\n",
    "    soma = 0\n",
    "    for numero in args:\n",
    "        soma += numero\n",
    "    return soma"
   ]
  },
  {
   "cell_type": "code",
   "execution_count": 4,
   "metadata": {},
   "outputs": [
    {
     "name": "stdout",
     "output_type": "stream",
     "text": [
      "(1, 2, 3, 4)\n",
      "10\n"
     ]
    }
   ],
   "source": [
    "print(minha_soma(1, 2, 3, 4))"
   ]
  },
  {
   "cell_type": "code",
   "execution_count": 9,
   "metadata": {},
   "outputs": [],
   "source": [
    "def preco_final(preco, **kwargs): # onde kwargs são os argumentos\n",
    "    print(kwargs) # visualizando o dicionário\n",
    "    if 'desconto' in kwargs:\n",
    "        preco *= (1 - kwargs['desconto'])\n",
    "    if 'garantia_extra' in kwargs:\n",
    "        preco += kwargs['garantia_extra'] \n",
    "    if 'imposto' in kwargs:\n",
    "        preco *= (1 + kwargs['imposto'])\n",
    "    return preco"
   ]
  },
  {
   "cell_type": "code",
   "execution_count": 14,
   "metadata": {},
   "outputs": [
    {
     "name": "stdout",
     "output_type": "stream",
     "text": [
      "{'desconto': 0.1}\n",
      "90.0\n",
      "{'imposto': 0.07}\n",
      "107.0\n",
      "{'garantia_extra': 20}\n",
      "120\n",
      "{'desconto': 0.1, 'imposto': 0.07, 'garantia_extra': 20}\n",
      "117.7\n"
     ]
    }
   ],
   "source": [
    "print(preco_final(100, desconto=0.1))\n",
    "print(preco_final(100, imposto=0.07))\n",
    "print(preco_final(100, garantia_extra=20))\n",
    "print(preco_final(100, desconto=0.1, imposto=0.07, garantia_extra=20))"
   ]
  }
 ],
 "metadata": {
  "kernelspec": {
   "display_name": "Python 3.10.2 64-bit",
   "language": "python",
   "name": "python3"
  },
  "language_info": {
   "codemirror_mode": {
    "name": "ipython",
    "version": 3
   },
   "file_extension": ".py",
   "mimetype": "text/x-python",
   "name": "python",
   "nbconvert_exporter": "python",
   "pygments_lexer": "ipython3",
   "version": "3.10.2"
  },
  "vscode": {
   "interpreter": {
    "hash": "6b6e3305c6d5e98d3597993ad9b000902b7736611cc00ab4cbc2007df81cff6b"
   }
  }
 },
 "nbformat": 4,
 "nbformat_minor": 4
}
