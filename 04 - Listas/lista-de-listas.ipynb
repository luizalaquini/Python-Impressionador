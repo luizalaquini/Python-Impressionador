{
 "cells": [
  {
   "cell_type": "markdown",
   "metadata": {},
   "source": [
    "# Listas de Listas\n",
    "\n",
    "### Estrutura:\n",
    "\n",
    "Cada item de uma lista pode ser qualquer tipo de variável. Inclusive, uma lista.\n",
    "\n",
    "Quando dentro de uma lista temos cada item como sendo uma outra lista, temos uma \"nested list\", ou seja, uma lista de listas.\n",
    "\n",
    "Todas as regras de lista e tudo que vimos até agora funciona exatamente igual, mas vamos ver como isso funciona na prática"
   ]
  },
  {
   "cell_type": "code",
   "execution_count": 2,
   "metadata": {},
   "outputs": [],
   "source": [
    "vendedores = ['Lira', 'João', 'Diego', 'Alon']\n",
    "produtos = ['ipad', 'iphone']\n",
    "vendas = [\n",
    "    [100, 200],\n",
    "    [300, 500],\n",
    "    [50, 1000],\n",
    "    [900, 10],\n",
    "]"
   ]
  },
  {
   "cell_type": "markdown",
   "metadata": {},
   "source": [
    "- Quanto João vendeu de IPad?\n",
    "- Quanto Diego vendeu de IPhone\n",
    "- Qual o total de vendas de IPhone?"
   ]
  },
  {
   "cell_type": "code",
   "execution_count": 9,
   "metadata": {},
   "outputs": [
    {
     "name": "stdout",
     "output_type": "stream",
     "text": [
      "João vendeu 300 ipads\n",
      "Diego vendeu 1000 iphones\n",
      "Total de iphones vendidos: 1710\n"
     ]
    }
   ],
   "source": [
    "# vendas[1][0]\n",
    "joao_ipad = vendas[vendedores.index('João')][produtos.index('ipad')]\n",
    "print(\"João vendeu {} ipads\" .format(joao_ipad))\n",
    "\n",
    "diego_iphone = vendas[vendedores.index('Diego')][produtos.index('iphone')]\n",
    "print(\"Diego vendeu {} iphones\" .format(diego_iphone))\n",
    "\n",
    "total_iphone = 0\n",
    "for i in range(len(vendedores)):\n",
    "    total_iphone += vendas[i][produtos.index('iphone')]\n",
    "print(\"Total de iphones vendidos: {}\" .format(total_iphone))\n"
   ]
  },
  {
   "cell_type": "markdown",
   "metadata": {},
   "source": [
    "- E se Lira na verdade fez apenas 50 vendas de IPhone, como eu modifico na minha lista o valor de vendas dele?"
   ]
  },
  {
   "cell_type": "code",
   "execution_count": 11,
   "metadata": {},
   "outputs": [
    {
     "name": "stdout",
     "output_type": "stream",
     "text": [
      "[[100, 50], [300, 500], [50, 1000], [900, 10]]\n"
     ]
    }
   ],
   "source": [
    "vendas[vendedores.index('Lira')][produtos.index('iphone')] = 50\n",
    "print(vendas)"
   ]
  },
  {
   "cell_type": "markdown",
   "metadata": {},
   "source": [
    "- E se agora eu tenho um novo produto 'mac', como eu adiciono as vendas em cada um dos vendedores?"
   ]
  },
  {
   "cell_type": "code",
   "execution_count": 14,
   "metadata": {},
   "outputs": [
    {
     "name": "stdout",
     "output_type": "stream",
     "text": [
      "[[100, 50, 20], [300, 500, 15], [50, 1000, 18], [900, 10, 8]]\n"
     ]
    }
   ],
   "source": [
    "vendas_mac = [20, 15, 18, 8]\n",
    "\n",
    "for idx in range(len(vendedores)):\n",
    "  vendas[idx].append(vendas_mac[idx])\n",
    "\n",
    "print(vendas)"
   ]
  }
 ],
 "metadata": {
  "kernelspec": {
   "display_name": "Python 3.10.2 64-bit",
   "language": "python",
   "name": "python3"
  },
  "language_info": {
   "codemirror_mode": {
    "name": "ipython",
    "version": 3
   },
   "file_extension": ".py",
   "mimetype": "text/x-python",
   "name": "python",
   "nbconvert_exporter": "python",
   "pygments_lexer": "ipython3",
   "version": "3.10.2"
  },
  "vscode": {
   "interpreter": {
    "hash": "6b6e3305c6d5e98d3597993ad9b000902b7736611cc00ab4cbc2007df81cff6b"
   }
  }
 },
 "nbformat": 4,
 "nbformat_minor": 4
}
