{
 "cells": [
  {
   "cell_type": "markdown",
   "metadata": {},
   "source": [
    "# Juntar Listas, Ordenar e Cuidados Especiais\n",
    "\n",
    "### 2 formas:\n",
    "\n",
    "- lista1.extend(lista2) == edita a lista original concatendo mais elementos a ela\n",
    "- lista_nova = lista1 + lista2 == cria uma nova lista que é a uniao de duas outras"
   ]
  },
  {
   "cell_type": "code",
   "execution_count": 9,
   "metadata": {},
   "outputs": [
    {
     "name": "stdout",
     "output_type": "stream",
     "text": [
      "['apple tv', 'mac', 'iphone x', 'iphone 11', 'IPad', 'apple watch', 'mac book', 'airpods', 'iphone 12', 'ioculos']\n",
      "['apple tv', 'mac', 'iphone x', 'iphone 11', 'IPad', 'apple watch', 'mac book', 'airpods', 'iphone 12', 'ioculos']\n"
     ]
    }
   ],
   "source": [
    "produtos = ['apple tv', 'mac', 'iphone x', 'iphone 11', 'IPad', 'apple watch', 'mac book', 'airpods']\n",
    "novos_produtos = ['iphone 12', 'ioculos']\n",
    "\n",
    "todos_produtos = produtos + novos_produtos\n",
    "print(todos_produtos)\n",
    "\n",
    "produtos.extend(novos_produtos)\n",
    "print(produtos)\n",
    "\n",
    "# OBS: o método apend não pode ser usado para juntar duas listas, pois ele acaba colocando uma lista dentro da outra \n",
    "# DESCOMENTAR PARA VER\n",
    "# mais_produtos = ['iphone 12 pro', 'mac book pro']\n",
    "# produtos.append(mais_produtos)\n",
    "# print(produtos)"
   ]
  },
  {
   "cell_type": "markdown",
   "metadata": {},
   "source": [
    "### Cuidado:\n",
    "\n",
    "- [1] + [2] não é a mesma coisa que 1 + 2, então cuidado sempre com o formato dos valores na hora de fazer operações."
   ]
  },
  {
   "cell_type": "code",
   "execution_count": 5,
   "metadata": {},
   "outputs": [
    {
     "name": "stdout",
     "output_type": "stream",
     "text": [
      "[1, 2]\n",
      "3\n",
      "[15000, 20000]\n",
      "35000\n"
     ]
    }
   ],
   "source": [
    "vendas = [1000, 1500, 15000, 20000, 270, 900, 100, 1200]\n",
    "vendas_iphonex = [15000]\n",
    "vendas_iphone11 = [20000]\n",
    "\n",
    "print([1] + [2]) # operação de juntar listas\n",
    "print(1 + 2) # operação de soma\n",
    "\n",
    "# Portanto, se queremos somar valores:\n",
    "print(vendas_iphonex + vendas_iphone11) # errado\n",
    "print(vendas_iphonex[0] + vendas_iphone11[0]) # correto"
   ]
  },
  {
   "cell_type": "markdown",
   "metadata": {},
   "source": [
    "### Ordenar listas\n",
    "\n",
    "lista.sort() == faz ordenação pela tabela ascii"
   ]
  },
  {
   "cell_type": "code",
   "execution_count": 12,
   "metadata": {},
   "outputs": [
    {
     "name": "stdout",
     "output_type": "stream",
     "text": [
      "['IPad', 'airpods', 'apple tv', 'apple watch', 'ioculos', 'iphone 11', 'iphone 12', 'iphone x', 'mac', 'mac book']\n",
      "[100, 270, 900, 1000, 1200, 1500, 15000, 20000]\n",
      "[20000, 15000, 1500, 1200, 1000, 900, 270, 100]\n"
     ]
    }
   ],
   "source": [
    "produtos.sort()\n",
    "print(produtos)\n",
    "\n",
    "vendas.sort()\n",
    "print(vendas)\n",
    "\n",
    "vendas.sort(reverse=True)\n",
    "print(vendas)"
   ]
  }
 ],
 "metadata": {
  "kernelspec": {
   "display_name": "Python 3.10.2 64-bit",
   "language": "python",
   "name": "python3"
  },
  "language_info": {
   "codemirror_mode": {
    "name": "ipython",
    "version": 3
   },
   "file_extension": ".py",
   "mimetype": "text/x-python",
   "name": "python",
   "nbconvert_exporter": "python",
   "pygments_lexer": "ipython3",
   "version": "3.10.2"
  },
  "vscode": {
   "interpreter": {
    "hash": "6b6e3305c6d5e98d3597993ad9b000902b7736611cc00ab4cbc2007df81cff6b"
   }
  }
 },
 "nbformat": 4,
 "nbformat_minor": 4
}
