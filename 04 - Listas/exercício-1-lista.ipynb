{
 "cells": [
  {
   "cell_type": "markdown",
   "metadata": {},
   "source": [
    "# Exercícios\n",
    "\n",
    "## 1. Faturamento do Melhor e do Pior Mês do Ano\n",
    "\n",
    "Qual foi o valor de vendas do melhor mês do Ano?\n",
    "E valor do pior mês do ano?"
   ]
  },
  {
   "cell_type": "code",
   "execution_count": 5,
   "metadata": {},
   "outputs": [],
   "source": [
    "meses = ['jan', 'fev', 'mar', 'abr', 'mai', 'jun', 'jul', 'ago', 'set', 'out', 'nov', 'dez']\n",
    "vendas_1semestre = [25000, 29000, 22200, 17750, 15870, 19900]\n",
    "vendas_2semestre = [19850, 20120, 17540, 15555, 49051, 9650]\n",
    "vendas_ano = vendas_1semestre + vendas_2semestre\n",
    "\n",
    "vendas_melhor_mes = max(vendas_ano)\n",
    "vendas_pior_mes = min(vendas_ano)"
   ]
  },
  {
   "cell_type": "markdown",
   "metadata": {},
   "source": [
    "## 2. Continuação\n",
    "\n",
    "Agora relacione as duas listas para printar 'O melhor mês do ano foi {} com {} vendas' e o mesmo para o pior mês do ano.\n",
    "\n",
    "Calcule também o faturamento total do Ano e quanto que o melhor mês representou do faturamento total.\n",
    "\n",
    "Obs: Para o faturamento total, pode usar a função sum(lista) que soma todos os itens de uma lista"
   ]
  },
  {
   "cell_type": "code",
   "execution_count": 9,
   "metadata": {},
   "outputs": [
    {
     "name": "stdout",
     "output_type": "stream",
     "text": [
      "O melhor mês do ano foi nov com 49051 vendas\n",
      "O pior mês do ano foi dez com 9650 vendas\n",
      "O faturamento total do ano foi de 261486 e o melhor mês corresponde a 18.8% desse valor\n"
     ]
    }
   ],
   "source": [
    "melhor_mes = meses[vendas_ano.index(vendas_melhor_mes)]\n",
    "pior_mes = meses[vendas_ano.index(vendas_pior_mes)]\n",
    "\n",
    "print(\"O melhor mês do ano foi {} com {} vendas\" .format(melhor_mes, vendas_melhor_mes))\n",
    "print(\"O pior mês do ano foi {} com {} vendas\" .format(pior_mes, vendas_pior_mes))\n",
    "\n",
    "faturando_total = sum(vendas_ano)\n",
    "percentual_melhor_mes = (vendas_melhor_mes / faturando_total) \n",
    "\n",
    "print (\"O faturamento total do ano foi de {} e o melhor mês corresponde a {:.1%} desse valor\" .format(faturando_total, percentual_melhor_mes))"
   ]
  },
  {
   "cell_type": "markdown",
   "metadata": {},
   "source": [
    "## 3. Crie uma lista com o top 3 valores de vendas do ano (sem fazer \"no olho\")\n",
    "\n",
    "Dica: o método remove retira um item da lista."
   ]
  },
  {
   "cell_type": "code",
   "execution_count": 10,
   "metadata": {},
   "outputs": [
    {
     "name": "stdout",
     "output_type": "stream",
     "text": [
      "[49051, 29000, 25000]\n"
     ]
    }
   ],
   "source": [
    "top3 = []\n",
    "\n",
    "for i in range(3):\n",
    "    top3.append(max(vendas_ano))\n",
    "    vendas_ano.remove(max(vendas_ano))\n",
    "\n",
    "print(top3)"
   ]
  }
 ],
 "metadata": {
  "kernelspec": {
   "display_name": "Python 3.10.2 64-bit",
   "language": "python",
   "name": "python3"
  },
  "language_info": {
   "codemirror_mode": {
    "name": "ipython",
    "version": 3
   },
   "file_extension": ".py",
   "mimetype": "text/x-python",
   "name": "python",
   "nbconvert_exporter": "python",
   "pygments_lexer": "ipython3",
   "version": "3.10.2"
  },
  "vscode": {
   "interpreter": {
    "hash": "6b6e3305c6d5e98d3597993ad9b000902b7736611cc00ab4cbc2007df81cff6b"
   }
  }
 },
 "nbformat": 4,
 "nbformat_minor": 4
}
