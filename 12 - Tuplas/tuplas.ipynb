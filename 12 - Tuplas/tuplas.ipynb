{
 "cells": [
  {
   "cell_type": "markdown",
   "metadata": {},
   "source": [
    "# Tuplas\n",
    "\n",
    "### Estrutura:\n",
    "\n",
    "tupla = (valor, valor, valor, ...)\n",
    "\n",
    "### *Diferença\n",
    "\n",
    "Parece uma lista, mas é imutável.\n",
    "\n",
    "### Vantagens:\n",
    "\n",
    "- Mais eficiente (em termos de performance)\n",
    "- Protege a base de dados (por ser imutável)\n",
    "- Muito usado para dados heterogêneos\n",
    "\n",
    "### Criando tuplas"
   ]
  },
  {
   "cell_type": "code",
   "execution_count": 2,
   "metadata": {},
   "outputs": [
    {
     "name": "stdout",
     "output_type": "stream",
     "text": [
      "('Luiza', '26/04/2022', '06/11/2000', 2000, 'Estagiário(a)')\n"
     ]
    }
   ],
   "source": [
    "funcionario = ('Luiza', '26/04/2022', '06/11/2000', 2000, 'Estagiário(a)')\n",
    "print(funcionario)"
   ]
  },
  {
   "cell_type": "markdown",
   "metadata": {},
   "source": [
    "### Acessando o valor de uma tupla"
   ]
  },
  {
   "cell_type": "code",
   "execution_count": 3,
   "metadata": {},
   "outputs": [
    {
     "name": "stdout",
     "output_type": "stream",
     "text": [
      "Luiza\n"
     ]
    }
   ],
   "source": [
    "'''nome = funcionario[0]\n",
    "data_contratacao = funcionario[1]\n",
    "data_nascimento = funcionario[2]\n",
    "salario = funcionario[3]\n",
    "cargo = funcionario[4]'''\n",
    "\n",
    "# Desempacotamento de tuplas (Unpacking)\n",
    "nome, data_contratacao, data_nascimento, salario, cargo = funcionario # obrigatoriamente a quantidade de variáveis deve ser igual a quantidade de elementos da tupla\n",
    "\n",
    "print(nome)"
   ]
  },
  {
   "cell_type": "markdown",
   "metadata": {},
   "source": [
    "- o enumerate que vínhamos usando até agora, na verdade, cria uma tupla para a gente. Vamos ver na prática:"
   ]
  },
  {
   "cell_type": "code",
   "execution_count": 5,
   "metadata": {},
   "outputs": [
    {
     "name": "stdout",
     "output_type": "stream",
     "text": [
      "João vendeu 1000 unidades\n",
      "Lira vendeu 2000 unidades\n",
      "Ana vendeu 300 unidades\n",
      "Maria vendeu 300 unidades\n",
      "Paula vendeu 150 unidades\n",
      "(0, 1000)\n",
      "(1, 2000)\n",
      "(2, 300)\n",
      "(3, 300)\n",
      "(4, 150)\n"
     ]
    }
   ],
   "source": [
    "vendas = [1000, 2000, 300, 300, 150]\n",
    "funcionarios = ['João', 'Lira', 'Ana', 'Maria', 'Paula']\n",
    "\n",
    "for i, venda in enumerate(vendas):\n",
    "        print('{} vendeu {} unidades'.format(funcionarios[i], venda))\n",
    "\n",
    "for tupla in enumerate(vendas):\n",
    "        print(tupla)"
   ]
  }
 ],
 "metadata": {
  "kernelspec": {
   "display_name": "Python 3.10.2 64-bit",
   "language": "python",
   "name": "python3"
  },
  "language_info": {
   "codemirror_mode": {
    "name": "ipython",
    "version": 3
   },
   "file_extension": ".py",
   "mimetype": "text/x-python",
   "name": "python",
   "nbconvert_exporter": "python",
   "pygments_lexer": "ipython3",
   "version": "3.10.2"
  },
  "vscode": {
   "interpreter": {
    "hash": "6b6e3305c6d5e98d3597993ad9b000902b7736611cc00ab4cbc2007df81cff6b"
   }
  }
 },
 "nbformat": 4,
 "nbformat_minor": 4
}
