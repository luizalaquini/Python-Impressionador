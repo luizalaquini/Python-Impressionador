{
 "cells": [
  {
   "cell_type": "markdown",
   "metadata": {},
   "source": [
    "# Exercícios\n",
    "\n",
    "São exercícios bem parecidos com os que fizemos com listas. Mas na tupla, podemos não só trabalhar com índices, mas fazer o \"unpacking\" das tuplas, o que pode facilitar nossos códigos.\n",
    "\n",
    "## 1. Análise de Vendas\n",
    "\n",
    "Nesse exercício vamos fazer uma \"análise simples\" de atingimento de Meta.\n",
    "\n",
    "Temos uma lista com os vendedores e os valores de vendas e queremos identificar (printar) quais os vendedores que bateram a meta e qual foi o valor que eles venderam."
   ]
  },
  {
   "cell_type": "code",
   "execution_count": 1,
   "metadata": {},
   "outputs": [
    {
     "name": "stdout",
     "output_type": "stream",
     "text": [
      "O vendedor(a) João atingiu a meta. Ele(a) vendeu R$ 15,000\n",
      "O vendedor(a) Julia atingiu a meta. Ele(a) vendeu R$ 27,000\n",
      "O vendedor(a) Ana atingiu a meta. Ele(a) vendeu R$ 10,300\n"
     ]
    }
   ],
   "source": [
    "meta = 10000\n",
    "vendas = [\n",
    "    ('João', 15000),\n",
    "    ('Julia', 27000),\n",
    "    ('Marcus', 9900),\n",
    "    ('Maria', 3750),\n",
    "    ('Ana', 10300),\n",
    "    ('Alon', 7870),\n",
    "]\n",
    "\n",
    "for venda in vendas:\n",
    "    vendedor, valor = venda\n",
    "\n",
    "    if valor >= meta:\n",
    "        print(\"O vendedor(a) {} atingiu a meta. Ele(a) vendeu R$ {:,}\" .format(vendedor, valor))"
   ]
  },
  {
   "cell_type": "markdown",
   "metadata": {},
   "source": [
    "## 2. Comparação com Ano Anterior\n",
    "\n",
    "Digamos que você está analisando as vendas de produtos de um ecommerce e quer identificar quais produtos tiveram no ano de 2020 mais vendas do que no ano de 2019, para reportar isso para a diretoria.\n",
    "\n",
    "Sua resposta pode ser um print de cada produto, qual foi a venda de 2019, a venda de 2020 e o % de crescimento de 2020 para 2019.\n",
    "\n",
    "Lembrando, para calcular o % de crescimento de um produto de um ano para o outro, podemos fazer: (vendas_produto2020/vendas_produto2019 - 1)\n",
    "\n",
    "A lógica da tupla é: (produto, vendas2019, vendas2020)"
   ]
  },
  {
   "cell_type": "code",
   "execution_count": 4,
   "metadata": {},
   "outputs": [
    {
     "name": "stdout",
     "output_type": "stream",
     "text": [
      "Produto: iphone. Vendas em 2019: 558147 unidades. Vendas em 2020: 951642 unidades. Percentual de aumento de venda: 70.50%\n",
      "Produto: tv. Vendas em 2019: 405252 unidades. Vendas em 2020: 787604 unidades. Percentual de aumento de venda: 94.35%\n",
      "Produto: máquina de café. Vendas em 2019: 718654 unidades. Vendas em 2020: 867660 unidades. Percentual de aumento de venda: 20.73%\n",
      "Produto: notebook dell. Vendas em 2019: 422760 unidades. Vendas em 2020: 694913 unidades. Percentual de aumento de venda: 64.38%\n",
      "Produto: notebook hp. Vendas em 2019: 154753 unidades. Vendas em 2020: 539704 unidades. Percentual de aumento de venda: 248.75%\n",
      "Produto: microsoft surface. Vendas em 2019: 438508 unidades. Vendas em 2020: 667179 unidades. Percentual de aumento de venda: 52.15%\n",
      "Produto: webcam. Vendas em 2019: 237467 unidades. Vendas em 2020: 295633 unidades. Percentual de aumento de venda: 24.49%\n",
      "Produto: caixa de som. Vendas em 2019: 489705 unidades. Vendas em 2020: 725316 unidades. Percentual de aumento de venda: 48.11%\n",
      "Produto: microfone. Vendas em 2019: 328311 unidades. Vendas em 2020: 644622 unidades. Percentual de aumento de venda: 96.34%\n",
      "Produto: câmera canon. Vendas em 2019: 591120 unidades. Vendas em 2020: 994303 unidades. Percentual de aumento de venda: 68.21%\n"
     ]
    }
   ],
   "source": [
    "vendas_produtos = [('iphone', 558147, 951642), ('galaxy', 712350, 244295), ('ipad', 573823, 26964), ('tv', 405252, 787604), ('máquina de café', 718654, 867660), ('kindle', 531580, 78830), ('geladeira', 973139, 710331), ('adega', 892292, 646016), ('notebook dell', 422760, 694913), ('notebook hp', 154753, 539704), ('notebook asus', 887061, 324831), ('microsoft surface', 438508, 667179), ('webcam', 237467, 295633), ('caixa de som', 489705, 725316), ('microfone', 328311, 644622), ('câmera canon', 591120, 994303)]\n",
    "\n",
    "for venda in vendas_produtos:\n",
    "  produto, vendas2019, vendas2020 = venda\n",
    "\n",
    "  if vendas2020 > vendas2019:\n",
    "    percentual = (vendas2020 - vendas2019) / vendas2019\n",
    "    print(\"Produto: {}. Vendas em 2019: {} unidades. Vendas em 2020: {} unidades. Percentual de aumento de venda: {:.2%}\".format(produto, vendas2019, vendas2020, percentual))\n"
   ]
  }
 ],
 "metadata": {
  "kernelspec": {
   "display_name": "Python 3.10.2 64-bit",
   "language": "python",
   "name": "python3"
  },
  "language_info": {
   "codemirror_mode": {
    "name": "ipython",
    "version": 3
   },
   "file_extension": ".py",
   "mimetype": "text/x-python",
   "name": "python",
   "nbconvert_exporter": "python",
   "pygments_lexer": "ipython3",
   "version": "3.10.2"
  },
  "vscode": {
   "interpreter": {
    "hash": "6b6e3305c6d5e98d3597993ad9b000902b7736611cc00ab4cbc2007df81cff6b"
   }
  }
 },
 "nbformat": 4,
 "nbformat_minor": 4
}
