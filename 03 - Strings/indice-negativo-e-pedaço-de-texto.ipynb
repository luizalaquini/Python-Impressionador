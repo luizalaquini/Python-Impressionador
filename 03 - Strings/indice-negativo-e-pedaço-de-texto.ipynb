{
 "cells": [
  {
   "cell_type": "markdown",
   "metadata": {},
   "source": [
    "## String Indice Negativo e Pedaço de Texto.ipynb\n",
    "\n",
    "Texto: lira@gmail.com\n",
    "  \n",
    "Para pegar um texto de trás para frente: texto[índice] -> onde índice é negativo\n",
    "\n",
    "Para pegar o pedaço de um texto use : (dois pontos). texto[:indice] ou texto[indice:] ou ainda texto[indice:indice]"
   ]
  },
  {
   "cell_type": "code",
   "execution_count": 2,
   "metadata": {},
   "outputs": [
    {
     "name": "stdout",
     "output_type": "stream",
     "text": [
      "lir\n",
      "lira@gmail.\n",
      "a@gmail.com\n",
      "gma\n"
     ]
    }
   ],
   "source": [
    "from cgi import print_arguments\n",
    "\n",
    "\"\"\"\n",
    "-14 -13 -12 -11 -10 -9 -8 -7 -6 -5 -4 -3 -2 -1\n",
    "  l   i   r   a   @  g  m  a  i  l  .  c  o  m\n",
    "  0   1   2   3   4  5  6  7  8  9 10 11 12 13\n",
    "\"\"\"\n",
    "\n",
    "email = 'lira@gmail.com'\n",
    "nome = 'João Paulo Lira'\n",
    "\n",
    "print(email[:3])\n",
    "print(email[:-3])\n",
    "print(email[3:])\n",
    "print(email[5:8])"
   ]
  },
  {
   "cell_type": "markdown",
   "metadata": {},
   "source": [
    "Exercícios para Fixação:\n",
    "\n",
    "Basta completar os prints de forma correta"
   ]
  },
  {
   "cell_type": "code",
   "execution_count": 4,
   "metadata": {},
   "outputs": [
    {
     "name": "stdout",
     "output_type": "stream",
     "text": [
      "Tamanho do e-mail: 14 caracteres\n",
      "Primeiro Caractere: l\n",
      "Último Caractere: m\n",
      "Servidor do email: gmail\n"
     ]
    }
   ],
   "source": [
    "print('Tamanho do e-mail: ' + str(len(email)) + ' caracteres')\n",
    "print('Primeiro Caractere: ' + email[0])\n",
    "print('Último Caractere: ' + email[-1])\n",
    "print('Servidor do email: ' + email[5:10])"
   ]
  }
 ],
 "metadata": {
  "kernelspec": {
   "display_name": "Python 3.10.2 64-bit",
   "language": "python",
   "name": "python3"
  },
  "language_info": {
   "codemirror_mode": {
    "name": "ipython",
    "version": 3
   },
   "file_extension": ".py",
   "mimetype": "text/x-python",
   "name": "python",
   "nbconvert_exporter": "python",
   "pygments_lexer": "ipython3",
   "version": "3.10.2"
  },
  "orig_nbformat": 4,
  "vscode": {
   "interpreter": {
    "hash": "6b6e3305c6d5e98d3597993ad9b000902b7736611cc00ab4cbc2007df81cff6b"
   }
  }
 },
 "nbformat": 4,
 "nbformat_minor": 2
}
